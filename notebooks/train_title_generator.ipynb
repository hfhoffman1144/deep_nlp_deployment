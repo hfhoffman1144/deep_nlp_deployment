{
 "cells": [
  {
   "cell_type": "code",
   "execution_count": 153,
   "id": "2073e818",
   "metadata": {},
   "outputs": [],
   "source": [
    "import torch\n",
    "import torch.nn as nn\n",
    "import torch.optim as optim\n",
    "import numpy as np\n",
    "import pandas as pd\n",
    "import matplotlib.pyplot as plt\n",
    "from enum import Enum\n",
    "from tqdm import tqdm\n",
    "import re\n",
    "%matplotlib inline"
   ]
  },
  {
   "cell_type": "markdown",
   "id": "d6feecd9",
   "metadata": {},
   "source": [
    "#### Notebook parameters"
   ]
  },
  {
   "cell_type": "code",
   "execution_count": 175,
   "id": "e75795f3",
   "metadata": {},
   "outputs": [],
   "source": [
    "# Path to the training data\n",
    "DATA_PATH = 'data/medium_articles.csv'\n",
    "\n",
    "# Path to pretrained word embeddings\n",
    "EMBEDDING_PATH = 'data/glove.6B/glove.6B.100d.txt'"
   ]
  },
  {
   "cell_type": "markdown",
   "id": "e6e64d0e",
   "metadata": {},
   "source": [
    "#### Data analysis"
   ]
  },
  {
   "cell_type": "code",
   "execution_count": 35,
   "id": "6c79e04c",
   "metadata": {},
   "outputs": [
    {
     "name": "stdout",
     "output_type": "stream",
     "text": [
      "(192368, 7)\n"
     ]
    },
    {
     "data": {
      "text/html": [
       "<div>\n",
       "<style scoped>\n",
       "    .dataframe tbody tr th:only-of-type {\n",
       "        vertical-align: middle;\n",
       "    }\n",
       "\n",
       "    .dataframe tbody tr th {\n",
       "        vertical-align: top;\n",
       "    }\n",
       "\n",
       "    .dataframe thead th {\n",
       "        text-align: right;\n",
       "    }\n",
       "</style>\n",
       "<table border=\"1\" class=\"dataframe\">\n",
       "  <thead>\n",
       "    <tr style=\"text-align: right;\">\n",
       "      <th></th>\n",
       "      <th>title</th>\n",
       "      <th>text</th>\n",
       "      <th>url</th>\n",
       "      <th>authors</th>\n",
       "      <th>timestamp</th>\n",
       "      <th>tags</th>\n",
       "      <th>date</th>\n",
       "    </tr>\n",
       "  </thead>\n",
       "  <tbody>\n",
       "    <tr>\n",
       "      <th>0</th>\n",
       "      <td>Mental Note Vol. 24</td>\n",
       "      <td>Photo by Josh Riemer on Unsplash\\n\\nMerry Chri...</td>\n",
       "      <td>https://medium.com/invisible-illness/mental-no...</td>\n",
       "      <td>['Ryan Fan']</td>\n",
       "      <td>2020-12-26 03:38:10.479000+00:00</td>\n",
       "      <td>['Mental Health', 'Health', 'Psychology', 'Sci...</td>\n",
       "      <td>2020-12-26</td>\n",
       "    </tr>\n",
       "    <tr>\n",
       "      <th>1</th>\n",
       "      <td>Your Brain On Coronavirus</td>\n",
       "      <td>Your Brain On Coronavirus\\n\\nA guide to the cu...</td>\n",
       "      <td>https://medium.com/age-of-awareness/how-the-pa...</td>\n",
       "      <td>['Simon Spichak']</td>\n",
       "      <td>2020-09-23 22:10:17.126000+00:00</td>\n",
       "      <td>['Mental Health', 'Coronavirus', 'Science', 'P...</td>\n",
       "      <td>2020-09-23</td>\n",
       "    </tr>\n",
       "    <tr>\n",
       "      <th>2</th>\n",
       "      <td>Mind Your Nose</td>\n",
       "      <td>Mind Your Nose\\n\\nHow smell training can chang...</td>\n",
       "      <td>https://medium.com/neodotlife/mind-your-nose-f...</td>\n",
       "      <td>[]</td>\n",
       "      <td>2020-10-10 20:17:37.132000+00:00</td>\n",
       "      <td>['Biotechnology', 'Neuroscience', 'Brain', 'We...</td>\n",
       "      <td>2020-10-10</td>\n",
       "    </tr>\n",
       "    <tr>\n",
       "      <th>3</th>\n",
       "      <td>The 4 Purposes of Dreams</td>\n",
       "      <td>Passionate about the synergy between science a...</td>\n",
       "      <td>https://medium.com/science-for-real/the-4-purp...</td>\n",
       "      <td>['Eshan Samaranayake']</td>\n",
       "      <td>2020-12-21 16:05:19.524000+00:00</td>\n",
       "      <td>['Health', 'Neuroscience', 'Mental Health', 'P...</td>\n",
       "      <td>2020-12-21</td>\n",
       "    </tr>\n",
       "    <tr>\n",
       "      <th>4</th>\n",
       "      <td>Surviving a Rod Through the Head</td>\n",
       "      <td>You’ve heard of him, haven’t you? Phineas Gage...</td>\n",
       "      <td>https://medium.com/live-your-life-on-purpose/s...</td>\n",
       "      <td>['Rishav Sinha']</td>\n",
       "      <td>2020-02-26 00:01:01.576000+00:00</td>\n",
       "      <td>['Brain', 'Health', 'Development', 'Psychology...</td>\n",
       "      <td>2020-02-26</td>\n",
       "    </tr>\n",
       "  </tbody>\n",
       "</table>\n",
       "</div>"
      ],
      "text/plain": [
       "                              title  \\\n",
       "0               Mental Note Vol. 24   \n",
       "1         Your Brain On Coronavirus   \n",
       "2                    Mind Your Nose   \n",
       "3          The 4 Purposes of Dreams   \n",
       "4  Surviving a Rod Through the Head   \n",
       "\n",
       "                                                text  \\\n",
       "0  Photo by Josh Riemer on Unsplash\\n\\nMerry Chri...   \n",
       "1  Your Brain On Coronavirus\\n\\nA guide to the cu...   \n",
       "2  Mind Your Nose\\n\\nHow smell training can chang...   \n",
       "3  Passionate about the synergy between science a...   \n",
       "4  You’ve heard of him, haven’t you? Phineas Gage...   \n",
       "\n",
       "                                                 url                 authors  \\\n",
       "0  https://medium.com/invisible-illness/mental-no...            ['Ryan Fan']   \n",
       "1  https://medium.com/age-of-awareness/how-the-pa...       ['Simon Spichak']   \n",
       "2  https://medium.com/neodotlife/mind-your-nose-f...                      []   \n",
       "3  https://medium.com/science-for-real/the-4-purp...  ['Eshan Samaranayake']   \n",
       "4  https://medium.com/live-your-life-on-purpose/s...        ['Rishav Sinha']   \n",
       "\n",
       "                          timestamp  \\\n",
       "0  2020-12-26 03:38:10.479000+00:00   \n",
       "1  2020-09-23 22:10:17.126000+00:00   \n",
       "2  2020-10-10 20:17:37.132000+00:00   \n",
       "3  2020-12-21 16:05:19.524000+00:00   \n",
       "4  2020-02-26 00:01:01.576000+00:00   \n",
       "\n",
       "                                                tags       date  \n",
       "0  ['Mental Health', 'Health', 'Psychology', 'Sci... 2020-12-26  \n",
       "1  ['Mental Health', 'Coronavirus', 'Science', 'P... 2020-09-23  \n",
       "2  ['Biotechnology', 'Neuroscience', 'Brain', 'We... 2020-10-10  \n",
       "3  ['Health', 'Neuroscience', 'Mental Health', 'P... 2020-12-21  \n",
       "4  ['Brain', 'Health', 'Development', 'Psychology... 2020-02-26  "
      ]
     },
     "execution_count": 35,
     "metadata": {},
     "output_type": "execute_result"
    }
   ],
   "source": [
    "# Read in training data\n",
    "data = pd.read_csv(DATA_PATH)\n",
    "\n",
    "# Create date column\n",
    "data['date'] = pd.to_datetime(data['timestamp'].map(lambda x: str(x)[0:10]))\n",
    "\n",
    "print(data.shape)\n",
    "data.head()"
   ]
  },
  {
   "cell_type": "code",
   "execution_count": 36,
   "id": "55316a6a",
   "metadata": {},
   "outputs": [
    {
     "data": {
      "image/png": "[encoded data removed]",
      "text/plain": [
       "<Figure size 720x432 with 1 Axes>"
      ]
     },
     "metadata": {
      "needs_background": "light"
     },
     "output_type": "display_data"
    },
    {
     "data": {
      "text/plain": [
       "count    192368.000000\n",
       "mean       5097.748134\n",
       "std        5206.093120\n",
       "min          10.000000\n",
       "25%        1952.000000\n",
       "50%        3837.000000\n",
       "75%        6591.000000\n",
       "max      100000.000000\n",
       "Name: article_length, dtype: float64"
      ]
     },
     "execution_count": 36,
     "metadata": {},
     "output_type": "execute_result"
    }
   ],
   "source": [
    "# Analyze distribution of article and title lengths\n",
    "data['article_length'] = data['text'].str.len()\n",
    "data['title_length'] = data['title'].str.len()\n",
    "\n",
    "fig,ax = plt.subplots(figsize=(10,6))\n",
    "out = ax.hist(data[data['article_length'] < 10000]['article_length'], density=True) \n",
    "ax.set_title('Distribution of Article Lengths less than 10,000 characters')\n",
    "plt.show()\n",
    "\n",
    "data['article_length'].describe()"
   ]
  },
  {
   "cell_type": "code",
   "execution_count": 37,
   "id": "eadd4648",
   "metadata": {},
   "outputs": [
    {
     "data": {
      "image/png": "[encoded data removed]",
      "text/plain": [
       "<Figure size 720x432 with 1 Axes>"
      ]
     },
     "metadata": {
      "needs_background": "light"
     },
     "output_type": "display_data"
    },
    {
     "data": {
      "text/plain": [
       "count    192363.000000\n",
       "mean         46.878828\n",
       "std          23.178936\n",
       "min           1.000000\n",
       "25%          31.000000\n",
       "50%          45.000000\n",
       "75%          60.000000\n",
       "max         200.000000\n",
       "Name: title_length, dtype: float64"
      ]
     },
     "execution_count": 37,
     "metadata": {},
     "output_type": "execute_result"
    }
   ],
   "source": [
    "fig,ax = plt.subplots(figsize=(10,6))\n",
    "out = ax.hist(data['title_length'], density=True) \n",
    "ax.set_title('Distribution of Title Lengths')\n",
    "plt.show()\n",
    "\n",
    "data['title_length'].describe()"
   ]
  },
  {
   "cell_type": "markdown",
   "id": "b9e91ca6",
   "metadata": {},
   "source": [
    "#### Data preparation"
   ]
  },
  {
   "cell_type": "code",
   "execution_count": 194,
   "id": "1727ab70",
   "metadata": {},
   "outputs": [],
   "source": [
    "# TODO: Optimize some of these functions to not use pure python\n",
    "def remove_newlines_tabs(text):\n",
    "    \n",
    "    # Replacing all the occurrences of \\n,\\\\n,\\t,\\\\ with a space.\n",
    "    return text.replace('\\\\n', ' ').replace('\\n', ' ').replace('\\t',' ').replace('\\\\', ' ').replace('  ', ' ')\n",
    "\n",
    "def remove_links(text):\n",
    "    \n",
    "    # Removing all the occurrences of links that starts with https\n",
    "    remove_https = re.sub(r'http\\S+', '', text)\n",
    "    \n",
    "    remove_www = re.sub(r'www\\S+', '', remove_https)\n",
    "    \n",
    "    # Remove all the occurrences of text that ends with .com\n",
    "    remove_com = re.sub(r\"\\ [A-Za-z]*\\.com\", \" \", remove_www)\n",
    "    \n",
    "    return remove_com\n",
    "\n",
    "def remove_special_characters(text):\n",
    "\n",
    "    return re.sub(r\"[^a-zA-Z0-9:$-%’]+\", ' ', text) \n",
    "\n",
    "def clean_text_input(text, size_limit:int=None):\n",
    "    \n",
    "    clean_text = text\n",
    "    clean_text = remove_newlines_tabs(clean_text)\n",
    "    clean_text = remove_links(clean_text)\n",
    "    clean_text = remove_special_characters(clean_text)\n",
    "\n",
    "    if size_limit:\n",
    "\n",
    "        clean_text = clean_text[0:size_limit]\n",
    "\n",
    "    return clean_text.lower()"
   ]
  },
  {
   "cell_type": "code",
   "execution_count": 195,
   "id": "87fc7d6f",
   "metadata": {},
   "outputs": [
    {
     "name": "stdout",
     "output_type": "stream",
     "text": [
      "(192361, 12)\n"
     ]
    },
    {
     "data": {
      "text/html": [
       "<div>\n",
       "<style scoped>\n",
       "    .dataframe tbody tr th:only-of-type {\n",
       "        vertical-align: middle;\n",
       "    }\n",
       "\n",
       "    .dataframe tbody tr th {\n",
       "        vertical-align: top;\n",
       "    }\n",
       "\n",
       "    .dataframe thead th {\n",
       "        text-align: right;\n",
       "    }\n",
       "</style>\n",
       "<table border=\"1\" class=\"dataframe\">\n",
       "  <thead>\n",
       "    <tr style=\"text-align: right;\">\n",
       "      <th></th>\n",
       "      <th>title</th>\n",
       "      <th>text</th>\n",
       "      <th>url</th>\n",
       "      <th>authors</th>\n",
       "      <th>timestamp</th>\n",
       "      <th>tags</th>\n",
       "      <th>date</th>\n",
       "      <th>article_length</th>\n",
       "      <th>title_length</th>\n",
       "      <th>cleaned_text</th>\n",
       "      <th>cleaned_title</th>\n",
       "      <th>reduced_cleaned_text</th>\n",
       "    </tr>\n",
       "  </thead>\n",
       "  <tbody>\n",
       "    <tr>\n",
       "      <th>0</th>\n",
       "      <td>Mental Note Vol. 24</td>\n",
       "      <td>Photo by Josh Riemer on Unsplash\\n\\nMerry Chri...</td>\n",
       "      <td>https://medium.com/invisible-illness/mental-no...</td>\n",
       "      <td>['Ryan Fan']</td>\n",
       "      <td>2020-12-26 03:38:10.479000+00:00</td>\n",
       "      <td>['Mental Health', 'Health', 'Psychology', 'Sci...</td>\n",
       "      <td>2020-12-26</td>\n",
       "      <td>5018</td>\n",
       "      <td>19.0</td>\n",
       "      <td>photo by josh riemer on unsplash merry christm...</td>\n",
       "      <td>mental note vol. 24</td>\n",
       "      <td>photo by josh riemer on unsplash merry christm...</td>\n",
       "    </tr>\n",
       "    <tr>\n",
       "      <th>1</th>\n",
       "      <td>Your Brain On Coronavirus</td>\n",
       "      <td>Your Brain On Coronavirus\\n\\nA guide to the cu...</td>\n",
       "      <td>https://medium.com/age-of-awareness/how-the-pa...</td>\n",
       "      <td>['Simon Spichak']</td>\n",
       "      <td>2020-09-23 22:10:17.126000+00:00</td>\n",
       "      <td>['Mental Health', 'Coronavirus', 'Science', 'P...</td>\n",
       "      <td>2020-09-23</td>\n",
       "      <td>7293</td>\n",
       "      <td>25.0</td>\n",
       "      <td>your brain on coronavirus a guide to the curio...</td>\n",
       "      <td>your brain on coronavirus</td>\n",
       "      <td>your brain on coronavirus a guide to the curio...</td>\n",
       "    </tr>\n",
       "    <tr>\n",
       "      <th>2</th>\n",
       "      <td>Mind Your Nose</td>\n",
       "      <td>Mind Your Nose\\n\\nHow smell training can chang...</td>\n",
       "      <td>https://medium.com/neodotlife/mind-your-nose-f...</td>\n",
       "      <td>[]</td>\n",
       "      <td>2020-10-10 20:17:37.132000+00:00</td>\n",
       "      <td>['Biotechnology', 'Neuroscience', 'Brain', 'We...</td>\n",
       "      <td>2020-10-10</td>\n",
       "      <td>5730</td>\n",
       "      <td>14.0</td>\n",
       "      <td>mind your nose how smell training can change y...</td>\n",
       "      <td>mind your nose</td>\n",
       "      <td>mind your nose how smell training can change y...</td>\n",
       "    </tr>\n",
       "    <tr>\n",
       "      <th>3</th>\n",
       "      <td>The 4 Purposes of Dreams</td>\n",
       "      <td>Passionate about the synergy between science a...</td>\n",
       "      <td>https://medium.com/science-for-real/the-4-purp...</td>\n",
       "      <td>['Eshan Samaranayake']</td>\n",
       "      <td>2020-12-21 16:05:19.524000+00:00</td>\n",
       "      <td>['Health', 'Neuroscience', 'Mental Health', 'P...</td>\n",
       "      <td>2020-12-21</td>\n",
       "      <td>146</td>\n",
       "      <td>24.0</td>\n",
       "      <td>passionate about the synergy between science a...</td>\n",
       "      <td>the 4 purposes of dreams</td>\n",
       "      <td>passionate about the synergy between science a...</td>\n",
       "    </tr>\n",
       "    <tr>\n",
       "      <th>4</th>\n",
       "      <td>Surviving a Rod Through the Head</td>\n",
       "      <td>You’ve heard of him, haven’t you? Phineas Gage...</td>\n",
       "      <td>https://medium.com/live-your-life-on-purpose/s...</td>\n",
       "      <td>['Rishav Sinha']</td>\n",
       "      <td>2020-02-26 00:01:01.576000+00:00</td>\n",
       "      <td>['Brain', 'Health', 'Development', 'Psychology...</td>\n",
       "      <td>2020-02-26</td>\n",
       "      <td>2326</td>\n",
       "      <td>32.0</td>\n",
       "      <td>you’ve heard of him haven’t you phineas gage t...</td>\n",
       "      <td>surviving a rod through the head</td>\n",
       "      <td>you’ve heard of him, haven’t you? phineas gage...</td>\n",
       "    </tr>\n",
       "  </tbody>\n",
       "</table>\n",
       "</div>"
      ],
      "text/plain": [
       "                              title  \\\n",
       "0               Mental Note Vol. 24   \n",
       "1         Your Brain On Coronavirus   \n",
       "2                    Mind Your Nose   \n",
       "3          The 4 Purposes of Dreams   \n",
       "4  Surviving a Rod Through the Head   \n",
       "\n",
       "                                                text  \\\n",
       "0  Photo by Josh Riemer on Unsplash\\n\\nMerry Chri...   \n",
       "1  Your Brain On Coronavirus\\n\\nA guide to the cu...   \n",
       "2  Mind Your Nose\\n\\nHow smell training can chang...   \n",
       "3  Passionate about the synergy between science a...   \n",
       "4  You’ve heard of him, haven’t you? Phineas Gage...   \n",
       "\n",
       "                                                 url                 authors  \\\n",
       "0  https://medium.com/invisible-illness/mental-no...            ['Ryan Fan']   \n",
       "1  https://medium.com/age-of-awareness/how-the-pa...       ['Simon Spichak']   \n",
       "2  https://medium.com/neodotlife/mind-your-nose-f...                      []   \n",
       "3  https://medium.com/science-for-real/the-4-purp...  ['Eshan Samaranayake']   \n",
       "4  https://medium.com/live-your-life-on-purpose/s...        ['Rishav Sinha']   \n",
       "\n",
       "                          timestamp  \\\n",
       "0  2020-12-26 03:38:10.479000+00:00   \n",
       "1  2020-09-23 22:10:17.126000+00:00   \n",
       "2  2020-10-10 20:17:37.132000+00:00   \n",
       "3  2020-12-21 16:05:19.524000+00:00   \n",
       "4  2020-02-26 00:01:01.576000+00:00   \n",
       "\n",
       "                                                tags       date  \\\n",
       "0  ['Mental Health', 'Health', 'Psychology', 'Sci... 2020-12-26   \n",
       "1  ['Mental Health', 'Coronavirus', 'Science', 'P... 2020-09-23   \n",
       "2  ['Biotechnology', 'Neuroscience', 'Brain', 'We... 2020-10-10   \n",
       "3  ['Health', 'Neuroscience', 'Mental Health', 'P... 2020-12-21   \n",
       "4  ['Brain', 'Health', 'Development', 'Psychology... 2020-02-26   \n",
       "\n",
       "   article_length  title_length  \\\n",
       "0            5018          19.0   \n",
       "1            7293          25.0   \n",
       "2            5730          14.0   \n",
       "3             146          24.0   \n",
       "4            2326          32.0   \n",
       "\n",
       "                                        cleaned_text  \\\n",
       "0  photo by josh riemer on unsplash merry christm...   \n",
       "1  your brain on coronavirus a guide to the curio...   \n",
       "2  mind your nose how smell training can change y...   \n",
       "3  passionate about the synergy between science a...   \n",
       "4  you’ve heard of him haven’t you phineas gage t...   \n",
       "\n",
       "                      cleaned_title  \\\n",
       "0               mental note vol. 24   \n",
       "1         your brain on coronavirus   \n",
       "2                    mind your nose   \n",
       "3          the 4 purposes of dreams   \n",
       "4  surviving a rod through the head   \n",
       "\n",
       "                                reduced_cleaned_text  \n",
       "0  photo by josh riemer on unsplash merry christm...  \n",
       "1  your brain on coronavirus a guide to the curio...  \n",
       "2  mind your nose how smell training can change y...  \n",
       "3  passionate about the synergy between science a...  \n",
       "4  you’ve heard of him, haven’t you? phineas gage...  "
      ]
     },
     "execution_count": 195,
     "metadata": {},
     "output_type": "execute_result"
    }
   ],
   "source": [
    "# Add clean text column\n",
    "data['cleaned_text'] = data['text'].map(lambda t: clean_text_input(t))\n",
    "data['cleaned_title'] = data['title'].str.lower()\n",
    "data.dropna(inplace=True)\n",
    "print(data.shape)\n",
    "data.head()"
   ]
  },
  {
   "cell_type": "code",
   "execution_count": 196,
   "id": "26998c11",
   "metadata": {},
   "outputs": [],
   "source": [
    "class SpecialToken(Enum):\n",
    "    \n",
    "    SOS = 0\n",
    "    EOS = 1\n",
    "    PAD = 2\n",
    "    UNK = 3\n",
    "    \n",
    "MAX_TEXT_LENGTH = 5000\n",
    "\n",
    "class Lang:\n",
    "    \n",
    "    def __init__(self):\n",
    "        \n",
    "        self.word2index = {}\n",
    "        self.word2count = {}\n",
    "        self.index2word = {SpecialToken.SOS.value: \"<SOS>\",\n",
    "                           SpecialToken.EOS.value: \"<EOS>\",\n",
    "                           SpecialToken.PAD.value: \"<PAD>\",\n",
    "                           SpecialToken.UNK.value: \"<UNK>\"}\n",
    "        \n",
    "        self.n_words = len(SpecialToken)\n",
    "        \n",
    "    def add_text(self, text):\n",
    "        \n",
    "        for word in text.split(' '):\n",
    "            \n",
    "            self.add_word(word)\n",
    "            \n",
    "    def add_word(self, word):\n",
    "        \n",
    "        if word not in self.word2index:\n",
    "            \n",
    "            self.word2index[word] = self.n_words\n",
    "            self.word2count[word] = 1\n",
    "            self.index2word[self.n_words] = word\n",
    "            self.n_words += 1\n",
    "            \n",
    "        else:\n",
    "            \n",
    "            self.word2count[word] += 1"
   ]
  },
  {
   "cell_type": "code",
   "execution_count": 197,
   "id": "60533e36",
   "metadata": {},
   "outputs": [
    {
     "name": "stderr",
     "output_type": "stream",
     "text": [
      "100%|█████████████████████████████████| 192361/192361 [01:58<00:00, 1618.20it/s]\n",
      "100%|███████████████████████████████| 192361/192361 [00:01<00:00, 138401.28it/s]\n"
     ]
    }
   ],
   "source": [
    "# Create vocab object\n",
    "VOCAB = Lang()\n",
    "\n",
    "# Add article words to vocab\n",
    "for article in tqdm(data['cleaned_text'].values):\n",
    "    \n",
    "    VOCAB.add_text(article)\n",
    "    \n",
    "# Add title words to vocab\n",
    "for title in tqdm(data['cleaned_title'].values):\n",
    "    \n",
    "    VOCAB.add_text(title)\n",
    "    "
   ]
  },
  {
   "cell_type": "code",
   "execution_count": 198,
   "id": "23c60774",
   "metadata": {},
   "outputs": [
    {
     "name": "stdout",
     "output_type": "stream",
     "text": [
      "793355\n",
      "15936\n",
      "kurosawa\n"
     ]
    }
   ],
   "source": [
    "print(VOCAB.n_words)\n",
    "print(VOCAB.word2index['harrison'])\n",
    "print(VOCAB.index2word[23554])"
   ]
  },
  {
   "cell_type": "code",
   "execution_count": 199,
   "id": "80c8b04d",
   "metadata": {},
   "outputs": [
    {
     "data": {
      "text/plain": [
       "5000"
      ]
     },
     "execution_count": 199,
     "metadata": {},
     "output_type": "execute_result"
    }
   ],
   "source": [
    "# Only going to use first 5000 characters of each article to train the model\n",
    "data['reduced_cleaned_text'] = data['cleaned_text'].map(lambda t: t[0:MAX_TEXT_LENGTH])\n",
    "data['reduced_cleaned_text'].str.len().max()"
   ]
  },
  {
   "cell_type": "code",
   "execution_count": 200,
   "id": "140ed0cb",
   "metadata": {},
   "outputs": [
    {
     "data": {
      "text/plain": [
       "400000"
      ]
     },
     "execution_count": 200,
     "metadata": {},
     "output_type": "execute_result"
    }
   ],
   "source": [
    "# Read in word embeddings\n",
    "glove = pd.read_csv(EMBEDDING_PATH, sep=\" \", quoting=3, header=None, index_col=0)\n",
    "\n",
    "# Create an embedding for unknown tokens that is the average of all embeddings\n",
    "glove_unknown = pd.DataFrame(glove.mean()).T\n",
    "glove_unknown.index = [VOCAB.index2word[SpecialToken.UNK.value]]\n",
    "\n",
    "glove = pd.concat([glove, glove_unknown])\n",
    "\n",
    "glove_embedding = {key: val.values for key, val in glove.T.items()}\n",
    "\n",
    "len(glove_embedding)"
   ]
  },
  {
   "cell_type": "code",
   "execution_count": 201,
   "id": "2fb05253",
   "metadata": {},
   "outputs": [
    {
     "data": {
      "text/plain": [
       "array([ 0.0520989 , -0.09711571, -0.13807639,  0.11075364, -0.02722782,\n",
       "       -0.00326489,  0.03176443, -0.05076858,  0.15321673, -0.02367416,\n",
       "       -0.00785459,  0.08436052, -0.08042076, -0.08836834, -0.01713606,\n",
       "        0.07352568, -0.16472259,  0.05473623,  0.15367079, -0.05283972,\n",
       "       -0.16474463, -0.00894968, -0.13604211, -0.03889302, -0.09204676,\n",
       "        0.02874561,  0.02445903,  0.1941931 , -0.03298016,  0.00509298,\n",
       "        0.01469093, -0.15542818,  0.03542845, -0.02936221,  0.01372915,\n",
       "       -0.06067601,  0.02025433, -0.14560258,  0.05823825,  0.01729521,\n",
       "        0.16282154,  0.18634708, -0.0633775 ,  0.13067349, -0.11122712,\n",
       "        0.02721625,  0.03867919,  0.15675569,  0.01345032,  0.19424636,\n",
       "       -0.01218781,  0.03659266, -0.08235352, -0.24420501,  0.07523874,\n",
       "        0.46423066,  0.06318566,  0.05081312, -0.38146976, -0.20739795,\n",
       "        0.03489537, -0.18234721,  0.09021401, -0.02504146, -0.22256527,\n",
       "        0.03383004, -0.1337939 , -0.14375436, -0.11264266, -0.03743948,\n",
       "        0.06188958,  0.09650601,  0.08384311,  0.19646484, -0.07446112,\n",
       "        0.00921894,  0.03034312, -0.02482679,  0.27563487,  0.02422235,\n",
       "       -0.23416707, -0.05235181,  0.10200746, -0.0367376 ,  0.29402985,\n",
       "        0.05685092,  0.01759484,  0.0799827 , -0.07554342,  0.14788766,\n",
       "        0.01690655,  0.07576721,  0.07596104, -0.10800033,  0.20830393,\n",
       "       -0.07841307,  0.08663622,  0.12381331, -0.23434672, -0.00925553])"
      ]
     },
     "execution_count": 201,
     "metadata": {},
     "output_type": "execute_result"
    }
   ],
   "source": [
    "glove_embedding[VOCAB.index2word[SpecialToken.UNK.value]]"
   ]
  },
  {
   "cell_type": "code",
   "execution_count": 207,
   "id": "2edbcb3e",
   "metadata": {},
   "outputs": [],
   "source": [
    "# Add orthogonal embeddings for <PAD>, <SOS>, and <EOS>\n",
    "glove_embedding[VOCAB.index2word[SpecialToken.PAD.value]] = np.eye(100)[0]\n",
    "glove_embedding[VOCAB.index2word[SpecialToken.SOS.value]] = np.eye(100)[1]\n",
    "glove_embedding[VOCAB.index2word[SpecialToken.EOS.value]] = np.eye(100)[2]"
   ]
  },
  {
   "cell_type": "code",
   "execution_count": 210,
   "id": "7b617ab0",
   "metadata": {},
   "outputs": [
    {
     "data": {
      "text/plain": [
       "array([0., 0., 1., 0., 0., 0., 0., 0., 0., 0., 0., 0., 0., 0., 0., 0., 0.,\n",
       "       0., 0., 0., 0., 0., 0., 0., 0., 0., 0., 0., 0., 0., 0., 0., 0., 0.,\n",
       "       0., 0., 0., 0., 0., 0., 0., 0., 0., 0., 0., 0., 0., 0., 0., 0., 0.,\n",
       "       0., 0., 0., 0., 0., 0., 0., 0., 0., 0., 0., 0., 0., 0., 0., 0., 0.,\n",
       "       0., 0., 0., 0., 0., 0., 0., 0., 0., 0., 0., 0., 0., 0., 0., 0., 0.,\n",
       "       0., 0., 0., 0., 0., 0., 0., 0., 0., 0., 0., 0., 0., 0., 0.])"
      ]
     },
     "execution_count": 210,
     "metadata": {},
     "output_type": "execute_result"
    }
   ],
   "source": [
    "glove_embedding['<EOS>']"
   ]
  },
  {
   "cell_type": "code",
   "execution_count": 211,
   "id": "2d6bf1c2",
   "metadata": {},
   "outputs": [],
   "source": [
    "def create_embedding_matrix(word_index, embedding_dict, dimension, unknown_token):\n",
    "    \n",
    "    embedding_matrix = np.zeros((len(word_index)+1, dimension))\n",
    "    \n",
    "    known_tracker = []\n",
    "\n",
    "    for word, index in word_index.items():\n",
    "    \n",
    "        if word in embedding_dict:\n",
    "        \n",
    "            embedding_matrix[index] = embedding_dict[word]\n",
    "            known_tracker.append(1)\n",
    "            \n",
    "        else:\n",
    "            \n",
    "            embedding_matrix[index] = embedding_dict[unknown_token]\n",
    "            known_tracker.append(0)\n",
    "            \n",
    "    print(f'{(1-np.mean(known_tracker))*100}% of words did not have embeddings')\n",
    "            \n",
    "    return embedding_matrix"
   ]
  },
  {
   "cell_type": "code",
   "execution_count": 212,
   "id": "e738f9f2",
   "metadata": {},
   "outputs": [
    {
     "ename": "KeyError",
     "evalue": "'_UNK'",
     "output_type": "error",
     "traceback": [
      "\u001b[0;31m---------------------------------------------------------------------------\u001b[0m",
      "\u001b[0;31mKeyError\u001b[0m                                  Traceback (most recent call last)",
      "Input \u001b[0;32mIn [212]\u001b[0m, in \u001b[0;36m<module>\u001b[0;34m\u001b[0m\n\u001b[0;32m----> 1\u001b[0m embedding_matrix \u001b[38;5;241m=\u001b[39m \u001b[43mcreate_embedding_matrix\u001b[49m\u001b[43m(\u001b[49m\u001b[43mVOCAB\u001b[49m\u001b[38;5;241;43m.\u001b[39;49m\u001b[43mword2index\u001b[49m\u001b[43m,\u001b[49m\u001b[43m \u001b[49m\u001b[43membedding_dict\u001b[49m\u001b[38;5;241;43m=\u001b[39;49m\u001b[43mglove_embedding\u001b[49m\u001b[43m,\u001b[49m\u001b[43m \u001b[49m\u001b[43mdimension\u001b[49m\u001b[38;5;241;43m=\u001b[39;49m\u001b[38;5;241;43m100\u001b[39;49m\u001b[43m)\u001b[49m\n\u001b[1;32m      2\u001b[0m embedding_matrix\u001b[38;5;241m.\u001b[39mshape\n",
      "Input \u001b[0;32mIn [211]\u001b[0m, in \u001b[0;36mcreate_embedding_matrix\u001b[0;34m(word_index, embedding_dict, dimension)\u001b[0m\n\u001b[1;32m     12\u001b[0m         known_tracker\u001b[38;5;241m.\u001b[39mappend(\u001b[38;5;241m1\u001b[39m)\n\u001b[1;32m     14\u001b[0m     \u001b[38;5;28;01melse\u001b[39;00m:\n\u001b[0;32m---> 16\u001b[0m         embedding_matrix[index] \u001b[38;5;241m=\u001b[39m \u001b[43membedding_dict\u001b[49m\u001b[43m[\u001b[49m\u001b[38;5;124;43m'\u001b[39;49m\u001b[38;5;124;43m_UNK\u001b[39;49m\u001b[38;5;124;43m'\u001b[39;49m\u001b[43m]\u001b[49m\n\u001b[1;32m     17\u001b[0m         known_tracker\u001b[38;5;241m.\u001b[39mappend(\u001b[38;5;241m0\u001b[39m)\n\u001b[1;32m     19\u001b[0m \u001b[38;5;28mprint\u001b[39m(\u001b[38;5;124mf\u001b[39m\u001b[38;5;124m'\u001b[39m\u001b[38;5;132;01m{\u001b[39;00m(\u001b[38;5;241m1\u001b[39m\u001b[38;5;241m-\u001b[39mnp\u001b[38;5;241m.\u001b[39mmean(known_tracker))\u001b[38;5;241m*\u001b[39m\u001b[38;5;241m100\u001b[39m\u001b[38;5;132;01m}\u001b[39;00m\u001b[38;5;124m% of words did not have embeddings\u001b[39m\u001b[38;5;124m'\u001b[39m)\n",
      "\u001b[0;31mKeyError\u001b[0m: '_UNK'"
     ]
    }
   ],
   "source": [
    "embedding_matrix = create_embedding_matrix(VOCAB.word2index, embedding_dict=glove_embedding, dimension=100)\n",
    "embedding_matrix.shape"
   ]
  },
  {
   "cell_type": "code",
   "execution_count": null,
   "id": "30521a57",
   "metadata": {},
   "outputs": [],
   "source": []
  }
 ],
 "metadata": {
  "kernelspec": {
   "display_name": "baseprojects",
   "language": "python",
   "name": "baseprojects"
  },
  "language_info": {
   "codemirror_mode": {
    "name": "ipython",
    "version": 3
   },
   "file_extension": ".py",
   "mimetype": "text/x-python",
   "name": "python",
   "nbconvert_exporter": "python",
   "pygments_lexer": "ipython3",
   "version": "3.9.9"
  }
 },
 "nbformat": 4,
 "nbformat_minor": 5
}
